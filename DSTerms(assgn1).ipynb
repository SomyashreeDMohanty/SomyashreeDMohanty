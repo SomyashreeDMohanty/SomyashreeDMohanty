{
 "cells": [
  {
   "cell_type": "markdown",
   "metadata": {},
   "source": [
    "# 14 types of Learnings :-"
   ]
  },
  {
   "cell_type": "markdown",
   "metadata": {},
   "source": [
    "## Learning Problems:-"
   ]
  },
  {
   "cell_type": "markdown",
   "metadata": {},
   "source": [
    "### 1.Supervised Learning:"
   ]
  },
  {
   "cell_type": "code",
   "execution_count": 1,
   "metadata": {},
   "outputs": [],
   "source": [
    "#Supervised Learning describes a class of problem that involves using a model to learn a mapping between\n",
    "#input examples and the targets\n",
    "#(or) \n",
    "#Applications in which the training data comprises examples of the input vectors along with their\n",
    "#corresponding target vectors are known as supervised learning problems."
   ]
  },
  {
   "cell_type": "code",
   "execution_count": 2,
   "metadata": {},
   "outputs": [],
   "source": [
    "#Text classification problems: In this set of problems, the goal is to predict the class label of a given \n",
    "#piece of text. One particularly popular topic in text classification is to predict the sentiment of a \n",
    "#piece of text,like a tweet or a product review."
   ]
  },
  {
   "cell_type": "markdown",
   "metadata": {},
   "source": [
    "### 2.Unsupervised Learning:-"
   ]
  },
  {
   "cell_type": "code",
   "execution_count": 3,
   "metadata": {},
   "outputs": [],
   "source": [
    "#Unsupervised learning describes a class of problems that involves using a model to describe or extract \n",
    "#relationships in data.\n",
    "#(or) \n",
    "#In unsupervised learning, there is no instructor or teacher, and the algorithm must learn to make sense \n",
    "#of the data without this guide."
   ]
  },
  {
   "cell_type": "code",
   "execution_count": 1,
   "metadata": {},
   "outputs": [],
   "source": [
    "#e.g: The most common unsupervised learning task is clustering: detecting potentially useful clusters of \n",
    "#input examples.\n",
    "#For example, a taxi agent might gradually develop a concept of “good traffic days” and “bad traffic days”\n",
    "#without ever being given labeled examples of each by a teacher."
   ]
  },
  {
   "cell_type": "markdown",
   "metadata": {},
   "source": [
    "### 3. Reinforcement Learning:-"
   ]
  },
  {
   "cell_type": "code",
   "execution_count": 2,
   "metadata": {},
   "outputs": [],
   "source": [
    "#Reinforcement learning describes a class of problems where an agent operates in an environment and must \n",
    "#learn to operate using feedback.\n",
    "# (or)\n",
    "#Reinforcement learning is learning what to do — how to map situations to actions— so as to maximize a \n",
    "#numerical reward signal. The learner is not told which actions to take, but instead must discover which\n",
    "#actions yield the most reward by trying them."
   ]
  },
  {
   "cell_type": "code",
   "execution_count": 3,
   "metadata": {},
   "outputs": [],
   "source": [
    "#eg:- An example of a reinforcement problem is playing a game where the agent has the goal of getting a \n",
    "#     high score and can make moves in the game and received feedback in terms of punishments or rewards."
   ]
  },
  {
   "cell_type": "markdown",
   "metadata": {},
   "source": [
    "## Hybrid Problems:-"
   ]
  },
  {
   "cell_type": "markdown",
   "metadata": {},
   "source": [
    "### 4.Semisupervised Learning:-"
   ]
  },
  {
   "cell_type": "code",
   "execution_count": 5,
   "metadata": {},
   "outputs": [],
   "source": [
    "#Semi-supervised learning is supervised learning where the training data contains very few labeled\n",
    "#examples and a large number of unlabeled examples.\n",
    "# (or)\n",
    "#In semi-supervised learning we are given a few labeled examples and must make what we can of a large \n",
    "#collection of unlabeled examples. Even the labels themselves may not be the oracular truths that we\n",
    "#hope for."
   ]
  },
  {
   "cell_type": "code",
   "execution_count": 6,
   "metadata": {},
   "outputs": [],
   "source": [
    "#e.g: Many problems from the fields of computer vision (image data), natural language processing \n",
    "#(text data), and automatic speech recognition (audio data) fall into this category and cannot be\n",
    "#easily addressed using standard supervised learning methods."
   ]
  },
  {
   "cell_type": "markdown",
   "metadata": {},
   "source": [
    "### 5.Self-supervised Learning:-"
   ]
  },
  {
   "cell_type": "code",
   "execution_count": 7,
   "metadata": {},
   "outputs": [],
   "source": [
    "#Self-supervised learning refers to an unsupervised learning problem that is framed as a \n",
    "#supervised learning problem in order to apply supervised learning algorithms to solve it.\n",
    "#(or)\n",
    "#The self-supervised learning framework requires only unlabeled data in order to formulate a \n",
    "#pretext learning task such as predicting context or image rotation, for which a target objective\n",
    "#can be computed without supervision."
   ]
  },
  {
   "cell_type": "code",
   "execution_count": 8,
   "metadata": {},
   "outputs": [],
   "source": [
    "#e.g.:A common example of self-supervised learning is computer vision where a corpus of unlabeled\n",
    "#      images is available and can be used to train a supervised model, such as making images \n",
    "#      grayscale and having a model predict a color representation (colorization) or \n",
    "#      removing blocks of the image and have a model predict the missing parts (inpainting)."
   ]
  },
  {
   "cell_type": "markdown",
   "metadata": {},
   "source": [
    "### 6.Multi-Intance Learning:-"
   ]
  },
  {
   "cell_type": "code",
   "execution_count": 9,
   "metadata": {},
   "outputs": [],
   "source": [
    "#Multi-instance learning is a supervised learning problem where individual examples are unlabeled;\n",
    "#instead, bags or groups of samples are labeled.\n",
    "#(or)\n",
    "#In multi-instance learning, an entire collection of examples is labeled as containing or not containing\n",
    "#an example of a class, but the individual members of the collection are not labeled."
   ]
  },
  {
   "cell_type": "code",
   "execution_count": 10,
   "metadata": {},
   "outputs": [],
   "source": [
    "#e.g.:\n",
    "#Babenko (2008)[1] gives a simple example for MIL. Imagine several people, and each of them has a \n",
    "#key chain that contains few keys. Some of these people are able to enter a certain room, and some aren’t.\n",
    "#The task is then to predict whether a certain key or a certain key chain can get you into that room. \n",
    "#To solve this problem we need to find the exact key that is common for all the “positive” key chains. \n",
    "#If we can correctly identify this key, we can also correctly classify an entire key chain - \n",
    "#positive if it contains the required key, or negative if it doesn't."
   ]
  },
  {
   "cell_type": "markdown",
   "metadata": {},
   "source": [
    "## Statisfical Inference :-"
   ]
  },
  {
   "cell_type": "markdown",
   "metadata": {},
   "source": [
    "### 7.Inductive Learning :-"
   ]
  },
  {
   "cell_type": "code",
   "execution_count": 11,
   "metadata": {},
   "outputs": [],
   "source": [
    "#Inductive learning involves using evidence to determine the outcome.\n",
    "#(or)\n",
    "#Fitting a machine learning model is a process of induction. \n",
    "#The model is a generalization of the specific examples in the training dataset."
   ]
  },
  {
   "cell_type": "markdown",
   "metadata": {},
   "source": [
    "### 8.Deductive Inference :-"
   ]
  },
  {
   "cell_type": "code",
   "execution_count": 12,
   "metadata": {},
   "outputs": [],
   "source": [
    "#Deduction or deductive inference refers to using general rules to determine specific outcomes.\n",
    "\n",
    "#Deduction is a top-down type of reasoning that seeks for all premises to be met before determining\n",
    "#the conclusion, whereas induction is a bottom-up type of reasoning that uses available data as \n",
    "#evidence for an outcome."
   ]
  },
  {
   "cell_type": "markdown",
   "metadata": {},
   "source": [
    "### 9.Transductive Learning :-"
   ]
  },
  {
   "cell_type": "code",
   "execution_count": 13,
   "metadata": {},
   "outputs": [],
   "source": [
    "#Transduction or transductive learning is used in the field of statistical learning theory to \n",
    "#refer to predicting specific examples given specific examples from a domain.\n",
    "\n"
   ]
  },
  {
   "cell_type": "code",
   "execution_count": 14,
   "metadata": {},
   "outputs": [],
   "source": [
    "#e.g :-\n",
    "#A classical example of a transductive algorithm is the k-Nearest Neighbors algorithm that does not \n",
    "#model the training data, but instead uses it directly each time a prediction is required."
   ]
  },
  {
   "cell_type": "markdown",
   "metadata": {},
   "source": [
    "#### Contrasting Induction, Deduction, and Transduction:-"
   ]
  },
  {
   "cell_type": "code",
   "execution_count": 15,
   "metadata": {},
   "outputs": [],
   "source": [
    "#For example:\n",
    "\n",
    "#Induction: Learning a general model from specific examples.\n",
    "#Deduction: Using a model to make predictions.\n",
    "#Transduction: Using specific examples to make predictions."
   ]
  },
  {
   "cell_type": "markdown",
   "metadata": {},
   "source": [
    "## Learning Techniques :-"
   ]
  },
  {
   "cell_type": "markdown",
   "metadata": {},
   "source": [
    "### 10. Multi-task Learning :-"
   ]
  },
  {
   "cell_type": "code",
   "execution_count": 16,
   "metadata": {},
   "outputs": [],
   "source": [
    "#Multi-task learning is a type of supervised learning that involves fitting a model on one dataset\n",
    "#that addresses multiple related problems.\n",
    "# (or)\n",
    "#Multi-task learning is a way to improve generalization by pooling the examples \n",
    "#(which can be seen as soft constraints imposed on the parameters) arising out of several tasks."
   ]
  },
  {
   "cell_type": "code",
   "execution_count": 17,
   "metadata": {},
   "outputs": [],
   "source": [
    "#For example, it is common for a multi-task learning problem to involve the same input patterns \n",
    "#that may be used for multiple different outputs or supervised learning problems. \n",
    "#In this setup, each output may be predicted by a different part of the model, allowing the core \n",
    "#of the model to generalize across each task for the same inputs."
   ]
  },
  {
   "cell_type": "markdown",
   "metadata": {},
   "source": [
    "### 11.Active Learning :-"
   ]
  },
  {
   "cell_type": "code",
   "execution_count": 18,
   "metadata": {},
   "outputs": [],
   "source": [
    "#Active learning is a technique where the model is able to query a human user operator during the \n",
    "#learning process in order to resolve ambiguity during the learning process.\n",
    "\n",
    "#Active learning: The learner adaptively or interactively collects training examples, \n",
    "#typically by querying an oracle to request labels for new points."
   ]
  },
  {
   "cell_type": "code",
   "execution_count": 19,
   "metadata": {},
   "outputs": [],
   "source": [
    "#Active learning is often used in applications where labels are expensive to obtain, \n",
    "#for example computational biology applications."
   ]
  },
  {
   "cell_type": "markdown",
   "metadata": {},
   "source": [
    "### 12.Online Learning :-"
   ]
  },
  {
   "cell_type": "code",
   "execution_count": 20,
   "metadata": {},
   "outputs": [],
   "source": [
    "#Online learning involves using the data available and updating the model directly before a \n",
    "#prediction is required or after the last observation was made.\n",
    "# (or)\n",
    "#Online learning is helpful when the data may be changing rapidly over time. It is also useful \n",
    "#for applications that involve a large collection of data that is constantly growing, \n",
    "#even if changes are gradual."
   ]
  },
  {
   "cell_type": "code",
   "execution_count": 21,
   "metadata": {},
   "outputs": [],
   "source": [
    "#One example of online learning is so-called stochastic or online gradient descent used to fit \n",
    "#an artificial neural network."
   ]
  },
  {
   "cell_type": "markdown",
   "metadata": {},
   "source": [
    "### 13.Transfer Learning :-"
   ]
  },
  {
   "cell_type": "code",
   "execution_count": 23,
   "metadata": {},
   "outputs": [],
   "source": [
    "#Transfer learning is a type of learning where a model is first trained on one task, then some or \n",
    "#all of the model is used as the starting point for a related task.\n",
    "#(or)\n",
    "#In transfer learning, the learner must perform two or more different tasks, but we assume that many \n",
    "#of the factors that explain the variations in P1 are relevant to the variations that need to be captured \n",
    "#for learning P2."
   ]
  },
  {
   "cell_type": "code",
   "execution_count": 24,
   "metadata": {},
   "outputs": [],
   "source": [
    "#An example is image classification, where a predictive model, such as an artificial neural network,\n",
    "#can be trained on a large corpus of general images, and the weights of the model can be used as a \n",
    "#starting point when training on a smaller more specific dataset, such as dogs and cats. \n",
    "#The features already learned by the model on the broader task, such as extracting lines and patterns, \n",
    "#will be helpful on the new related task."
   ]
  },
  {
   "cell_type": "markdown",
   "metadata": {},
   "source": [
    "### 14.Ensemble Leaarning :-"
   ]
  },
  {
   "cell_type": "code",
   "execution_count": 25,
   "metadata": {},
   "outputs": [],
   "source": [
    "#Ensemble learning is an approach where two or more modes are fit on the same data and \n",
    "#the predictions from each model are combined.\n",
    "#\n",
    "#Ensemble learning can be broken down into two tasks: developing a population of base learners from \n",
    "#the training data, and then combining them to form the composite predictor."
   ]
  },
  {
   "cell_type": "code",
   "execution_count": 26,
   "metadata": {},
   "outputs": [],
   "source": [
    "#Some examples of popular ensemble learning algorithms include: weighted average, stacked generalization \n",
    "#(stacking), and bootstrap aggregation (bagging)."
   ]
  },
  {
   "cell_type": "markdown",
   "metadata": {},
   "source": [
    "# Terminology :-"
   ]
  },
  {
   "cell_type": "markdown",
   "metadata": {},
   "source": [
    "## Anonymization :-"
   ]
  },
  {
   "cell_type": "code",
   "execution_count": 27,
   "metadata": {},
   "outputs": [],
   "source": [
    "#Data anonymization is the process of protecting private or sensitive information by erasing or encrypting\n",
    "#identifiers that connect an individual to stored data. "
   ]
  },
  {
   "cell_type": "code",
   "execution_count": 28,
   "metadata": {},
   "outputs": [],
   "source": [
    "#For example, you can run Personally Identifiable Information (PII) such as names, social security numbers,\n",
    "#and addresses through a data anonymization process that retains the data but keeps the source anonymous."
   ]
  },
  {
   "cell_type": "markdown",
   "metadata": {},
   "source": [
    "## Algorithm :-"
   ]
  },
  {
   "cell_type": "code",
   "execution_count": 29,
   "metadata": {},
   "outputs": [],
   "source": [
    "#Algorithm is a process or set of rules to be followed in calculations or other problem-solving operations,\n",
    "#especially by a computer."
   ]
  },
  {
   "cell_type": "code",
   "execution_count": 30,
   "metadata": {},
   "outputs": [],
   "source": [
    "#eg:\n",
    "#A basic division algorithm :-\n",
    "# Step 1: D for Divide. How many times will 5 go into 65? ...\n",
    "# Step 2: M for Multiply. You multiply your answer from step 1 and your divisor: 1 x 5 = 5. ...\n",
    "# Step 3: S for Subtract. Next you subtract. ...\n",
    "# Step 4: B for Bring down. ...\n",
    "# Step 1: D for Divide. ...\n",
    "# Step 2: M for Multiply. ...\n",
    "# Step 3: S for Subtract."
   ]
  },
  {
   "cell_type": "markdown",
   "metadata": {},
   "source": [
    "## Bayes Theorem :-"
   ]
  },
  {
   "cell_type": "code",
   "execution_count": 31,
   "metadata": {},
   "outputs": [],
   "source": [
    "# Bayes' Theorem is a way of finding a probability when we know certain other probabilities.\n",
    "\n",
    "# The formula is:\n",
    "#     P(A|B)= [P(A)*P(B|A)]/P(B)\n",
    "# Which tells us:\t \thow often A happens given that B happens, written P(A|B),\n",
    "# When we know:\t \thow often B happens given that A happens, written P(B|A)\n",
    "#  \t \tand how likely A is on its own, written P(A)\n",
    "#  \t \tand how likely B is on its own, written P(B)"
   ]
  },
  {
   "cell_type": "code",
   "execution_count": 32,
   "metadata": {},
   "outputs": [],
   "source": [
    "# Let us say P(Fire) means how often there is fire, and P(Smoke) means how often we see smoke, then:\n",
    "\n",
    "# P(Fire|Smoke) means how often there is fire when we can see smoke\n",
    "# P(Smoke|Fire) means how often we can see smoke when there is fire\n",
    "\n",
    "# So the formula kind of tells us \"forwards\" P(Fire|Smoke) when we know \"backwards\" P(Smoke|Fire)\n",
    "# Example:\n",
    "# dangerous fires are rare (1%)\n",
    "# but smoke is fairly common (10%) due to barbecues,\n",
    "# and 90% of dangerous fires make smoke\n",
    "# We can then discover the probability of dangerous Fire when there is Smoke:\n",
    "\n",
    "# P(Fire|Smoke) =\t P(Fire) P(Smoke|Fire)P(Smoke) \n",
    "# =\t 1% x 90%10% \n",
    "# =\t9%"
   ]
  },
  {
   "cell_type": "markdown",
   "metadata": {},
   "source": [
    "## Behavioural Analytics :-"
   ]
  },
  {
   "cell_type": "code",
   "execution_count": 33,
   "metadata": {},
   "outputs": [],
   "source": [
    "# Behavioral analytics is an area of data analytics that focuses on providing insight into the actions of \n",
    "# people, usually regarding online purchasing. Behavioral analytics is used in e-commerce, gaming, \n",
    "# social media, and other applications to identify opportunities to optimize in order to realize \n",
    "# specific business outcomes."
   ]
  },
  {
   "cell_type": "code",
   "execution_count": 34,
   "metadata": {},
   "outputs": [],
   "source": [
    "# Behavioral analytics is based on hard data. It uses the volumes of raw data people use while \n",
    "# they're on social media, in gaming applications, marketing, retail sites, or applications. \n",
    "# This data is collected and analyzed, and then used as the basis of making certain decisions, \n",
    "# including how to determine future trends or business activity, including ad placement."
   ]
  },
  {
   "cell_type": "code",
   "execution_count": null,
   "metadata": {},
   "outputs": [],
   "source": []
  }
 ],
 "metadata": {
  "kernelspec": {
   "display_name": "Python 3",
   "language": "python",
   "name": "python3"
  },
  "language_info": {
   "codemirror_mode": {
    "name": "ipython",
    "version": 3
   },
   "file_extension": ".py",
   "mimetype": "text/x-python",
   "name": "python",
   "nbconvert_exporter": "python",
   "pygments_lexer": "ipython3",
   "version": "3.8.3"
  }
 },
 "nbformat": 4,
 "nbformat_minor": 4
}
