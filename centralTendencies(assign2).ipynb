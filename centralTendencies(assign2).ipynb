{
 "cells": [
  {
   "cell_type": "markdown",
   "metadata": {},
   "source": [
    "# mean"
   ]
  },
  {
   "cell_type": "code",
   "execution_count": 1,
   "metadata": {},
   "outputs": [],
   "source": [
    "def my_mean(sample):\n",
    "    return sum(sample) / len(sample)"
   ]
  },
  {
   "cell_type": "code",
   "execution_count": 2,
   "metadata": {},
   "outputs": [
    {
     "data": {
      "text/plain": [
       "43.44444444444444"
      ]
     },
     "execution_count": 2,
     "metadata": {},
     "output_type": "execute_result"
    }
   ],
   "source": [
    "my_mean([1,2,3,45,6,77,89,90,78])"
   ]
  },
  {
   "cell_type": "markdown",
   "metadata": {},
   "source": [
    "# Meadian"
   ]
  },
  {
   "cell_type": "code",
   "execution_count": 3,
   "metadata": {},
   "outputs": [],
   "source": [
    "def my_median(sample):\n",
    "    n = len(sample)\n",
    "    index = n // 2\n",
    "    # Sample with an odd number of observations\n",
    "    if n % 2:\n",
    "        return sorted(sample)[index]\n",
    "    # Sample with an even number of observations\n",
    "    else:\n",
    "        return sum(sorted(sample)[index - 1:index + 1]) / 2"
   ]
  },
  {
   "cell_type": "code",
   "execution_count": 4,
   "metadata": {},
   "outputs": [
    {
     "data": {
      "text/plain": [
       "45"
      ]
     },
     "execution_count": 4,
     "metadata": {},
     "output_type": "execute_result"
    }
   ],
   "source": [
    "my_median([1,2,3,45,6,77,89,90,78])"
   ]
  },
  {
   "cell_type": "code",
   "execution_count": 5,
   "metadata": {},
   "outputs": [
    {
     "data": {
      "text/plain": [
       "72.5"
      ]
     },
     "execution_count": 5,
     "metadata": {},
     "output_type": "execute_result"
    }
   ],
   "source": [
    "my_median([44,55,67,89,78,88])"
   ]
  },
  {
   "cell_type": "markdown",
   "metadata": {},
   "source": [
    "# mode"
   ]
  },
  {
   "cell_type": "code",
   "execution_count": 6,
   "metadata": {},
   "outputs": [],
   "source": [
    "import collections\n",
    "def my_mode(sample):\n",
    "        # Print the list\n",
    "    print(sample)\n",
    "    # calculate the frequency of each item\n",
    "    data = collections.Counter(sample)\n",
    "    data_list = dict(data)\n",
    "    # Print the items with frequency\n",
    "    print(data_list)\n",
    "    # Find the highest frequency\n",
    "    max_value = max(list(data.values()))\n",
    "    mode_val = [num for num, freq in data_list.items() if freq == max_value]\n",
    "    if len(mode_val) == len(num_list):\n",
    "        print(\"No mode in the list\")\n",
    "    else:\n",
    "        print(\"The Mode of the list is : \" + ', '.join(map(str, mode_val)))"
   ]
  },
  {
   "cell_type": "code",
   "execution_count": 7,
   "metadata": {},
   "outputs": [
    {
     "name": "stdout",
     "output_type": "stream",
     "text": [
      "[21, 13, 19, 13, 19, 13]\n",
      "{21: 1, 13: 3, 19: 2}\n",
      "The Mode of the list is : 13\n"
     ]
    }
   ],
   "source": [
    "num_list = [21, 13, 19, 13,19,13]\n",
    "my_mode(num_list)"
   ]
  },
  {
   "cell_type": "code",
   "execution_count": null,
   "metadata": {},
   "outputs": [],
   "source": []
  }
 ],
 "metadata": {
  "kernelspec": {
   "display_name": "Python 3",
   "language": "python",
   "name": "python3"
  },
  "language_info": {
   "codemirror_mode": {
    "name": "ipython",
    "version": 3
   },
   "file_extension": ".py",
   "mimetype": "text/x-python",
   "name": "python",
   "nbconvert_exporter": "python",
   "pygments_lexer": "ipython3",
   "version": "3.8.3"
  }
 },
 "nbformat": 4,
 "nbformat_minor": 4
}
