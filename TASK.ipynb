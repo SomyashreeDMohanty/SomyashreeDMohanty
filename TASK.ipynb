{
 "cells": [
  {
   "cell_type": "markdown",
   "metadata": {},
   "source": [
    "### Task 1 - Vowels and consonant count"
   ]
  },
  {
   "cell_type": "code",
   "execution_count": 1,
   "metadata": {},
   "outputs": [],
   "source": [
    "import pandas as pd"
   ]
  },
  {
   "cell_type": "code",
   "execution_count": 2,
   "metadata": {},
   "outputs": [],
   "source": [
    "my_string = 'Artificial intelligence is the heart of future'"
   ]
  },
  {
   "cell_type": "code",
   "execution_count": 3,
   "metadata": {},
   "outputs": [],
   "source": [
    "text_file = open(\"Output.txt\", \"w\")\n",
    "text_file.write(my_string)\n",
    "text_file.close()"
   ]
  },
  {
   "cell_type": "code",
   "execution_count": 4,
   "metadata": {},
   "outputs": [],
   "source": [
    "my_list = []\n",
    "f = open('Output.txt','r')\n",
    "for i in f:\n",
    "    my_list = i.split()\n",
    "f.close()"
   ]
  },
  {
   "cell_type": "code",
   "execution_count": 5,
   "metadata": {},
   "outputs": [
    {
     "data": {
      "text/plain": [
       "['Artificial', 'intelligence', 'is', 'the', 'heart', 'of', 'future']"
      ]
     },
     "execution_count": 5,
     "metadata": {},
     "output_type": "execute_result"
    }
   ],
   "source": [
    "my_list"
   ]
  },
  {
   "cell_type": "code",
   "execution_count": 20,
   "metadata": {},
   "outputs": [],
   "source": [
    "def checkvowel(string):\n",
    "    r = [string]\n",
    "    count_cons = 0\n",
    "    for vowel in 'aeiou':\n",
    "        count = string.lower().count(vowel)\n",
    "        r.append(count)\n",
    "    for cons  in string.lower():\n",
    "        if cons not in 'aeiou' and cons.isalpha() == True:\n",
    "            count_cons += 1\n",
    "    r.append(count_cons)            \n",
    "    return tuple(r)"
   ]
  },
  {
   "cell_type": "code",
   "execution_count": 21,
   "metadata": {},
   "outputs": [],
   "source": [
    "l = []\n",
    "for i in my_list:\n",
    "    t = checkvowel(i)\n",
    "    l.append(t)"
   ]
  },
  {
   "cell_type": "code",
   "execution_count": 23,
   "metadata": {},
   "outputs": [],
   "source": [
    "df = pd.DataFrame(l,columns=['word','a','e','i','o','u','Consonants'])"
   ]
  },
  {
   "cell_type": "code",
   "execution_count": 24,
   "metadata": {},
   "outputs": [
    {
     "data": {
      "text/html": [
       "<div>\n",
       "<style scoped>\n",
       "    .dataframe tbody tr th:only-of-type {\n",
       "        vertical-align: middle;\n",
       "    }\n",
       "\n",
       "    .dataframe tbody tr th {\n",
       "        vertical-align: top;\n",
       "    }\n",
       "\n",
       "    .dataframe thead th {\n",
       "        text-align: right;\n",
       "    }\n",
       "</style>\n",
       "<table border=\"1\" class=\"dataframe\">\n",
       "  <thead>\n",
       "    <tr style=\"text-align: right;\">\n",
       "      <th></th>\n",
       "      <th>word</th>\n",
       "      <th>a</th>\n",
       "      <th>e</th>\n",
       "      <th>i</th>\n",
       "      <th>o</th>\n",
       "      <th>u</th>\n",
       "      <th>Consonants</th>\n",
       "    </tr>\n",
       "  </thead>\n",
       "  <tbody>\n",
       "    <tr>\n",
       "      <th>0</th>\n",
       "      <td>Artificial</td>\n",
       "      <td>2</td>\n",
       "      <td>0</td>\n",
       "      <td>3</td>\n",
       "      <td>0</td>\n",
       "      <td>0</td>\n",
       "      <td>5</td>\n",
       "    </tr>\n",
       "    <tr>\n",
       "      <th>1</th>\n",
       "      <td>intelligence</td>\n",
       "      <td>0</td>\n",
       "      <td>3</td>\n",
       "      <td>2</td>\n",
       "      <td>0</td>\n",
       "      <td>0</td>\n",
       "      <td>7</td>\n",
       "    </tr>\n",
       "    <tr>\n",
       "      <th>2</th>\n",
       "      <td>is</td>\n",
       "      <td>0</td>\n",
       "      <td>0</td>\n",
       "      <td>1</td>\n",
       "      <td>0</td>\n",
       "      <td>0</td>\n",
       "      <td>1</td>\n",
       "    </tr>\n",
       "    <tr>\n",
       "      <th>3</th>\n",
       "      <td>the</td>\n",
       "      <td>0</td>\n",
       "      <td>1</td>\n",
       "      <td>0</td>\n",
       "      <td>0</td>\n",
       "      <td>0</td>\n",
       "      <td>2</td>\n",
       "    </tr>\n",
       "    <tr>\n",
       "      <th>4</th>\n",
       "      <td>heart</td>\n",
       "      <td>1</td>\n",
       "      <td>1</td>\n",
       "      <td>0</td>\n",
       "      <td>0</td>\n",
       "      <td>0</td>\n",
       "      <td>3</td>\n",
       "    </tr>\n",
       "    <tr>\n",
       "      <th>5</th>\n",
       "      <td>of</td>\n",
       "      <td>0</td>\n",
       "      <td>0</td>\n",
       "      <td>0</td>\n",
       "      <td>1</td>\n",
       "      <td>0</td>\n",
       "      <td>1</td>\n",
       "    </tr>\n",
       "    <tr>\n",
       "      <th>6</th>\n",
       "      <td>future</td>\n",
       "      <td>0</td>\n",
       "      <td>1</td>\n",
       "      <td>0</td>\n",
       "      <td>0</td>\n",
       "      <td>2</td>\n",
       "      <td>3</td>\n",
       "    </tr>\n",
       "  </tbody>\n",
       "</table>\n",
       "</div>"
      ],
      "text/plain": [
       "           word  a  e  i  o  u  Consonants\n",
       "0    Artificial  2  0  3  0  0           5\n",
       "1  intelligence  0  3  2  0  0           7\n",
       "2            is  0  0  1  0  0           1\n",
       "3           the  0  1  0  0  0           2\n",
       "4         heart  1  1  0  0  0           3\n",
       "5            of  0  0  0  1  0           1\n",
       "6        future  0  1  0  0  2           3"
      ]
     },
     "execution_count": 24,
     "metadata": {},
     "output_type": "execute_result"
    }
   ],
   "source": [
    "df"
   ]
  },
  {
   "cell_type": "markdown",
   "metadata": {},
   "source": [
    "### Task 2 kth non repeating character"
   ]
  },
  {
   "cell_type": "code",
   "execution_count": 25,
   "metadata": {},
   "outputs": [
    {
     "data": {
      "text/plain": [
       "['Artificial', 'intelligence', 'is', 'the', 'heart', 'of', 'future']"
      ]
     },
     "execution_count": 25,
     "metadata": {},
     "output_type": "execute_result"
    }
   ],
   "source": [
    "my_list"
   ]
  },
  {
   "cell_type": "code",
   "execution_count": 30,
   "metadata": {},
   "outputs": [],
   "source": [
    "# Python 3 program to find k'th  \n",
    "# non-repeating character in a string \n",
    "MAX_CHAR = 256\n",
    "  \n",
    "# Returns index of k'th non-repeating  \n",
    "# character in given string str[]\n",
    "def kthNonRepeating(str, k): \n",
    "  \n",
    "    n = len(str) \n",
    "  \n",
    "    # count[x] is going to store count of   \n",
    "    # character 'x' in str. If x is not  \n",
    "    # present, then it is going to store 0. \n",
    "    count = [0] * MAX_CHAR \n",
    "  \n",
    "    # index[x] is going to store index of  \n",
    "    # character 'x' in str. If x is not  \n",
    "    # present or x is repeating, then it  \n",
    "    # is going to store a value (for example,  \n",
    "    # length of string) that cannot be a valid \n",
    "    # index in str[] \n",
    "    index = [0] * MAX_CHAR \n",
    "  \n",
    "    # Initialize counts of all characters  \n",
    "    # and indexes of non-repeating characters. \n",
    "    for i in range( MAX_CHAR): \n",
    "        count[i] = 0\n",
    "        index[i] = n # A value more than any  \n",
    "                     # index in str[] \n",
    "  \n",
    "    # Traverse the input string \n",
    "    for i in range(n): \n",
    "          \n",
    "        # Find current character and  \n",
    "        # increment its count \n",
    "        x = str[i] \n",
    "        count[ord(x)] += 1\n",
    "  \n",
    "        # If this is first occurrence, then  \n",
    "        # set value in index as index of it. \n",
    "        if (count[ord(x)] == 1): \n",
    "            index[ord(x)] = i \n",
    "  \n",
    "        # If character repeats, then remove  \n",
    "        # it from index[] \n",
    "        if (count[ord(x)] == 2): \n",
    "            index[ord(x)] = n \n",
    "  \n",
    "    # Sort index[] in increasing order. This step \n",
    "    # takes O(1) time as size of index is 256 only \n",
    "    index.sort() \n",
    "  \n",
    "    # After sorting, if index[k-1] is value,  \n",
    "    # then return it, else return -1. \n",
    "    return index[k - 1] if (index[k - 1] != n) else -1\n",
    "    \n",
    "    \n"
   ]
  },
  {
   "cell_type": "code",
   "execution_count": 44,
   "metadata": {},
   "outputs": [
    {
     "name": "stdin",
     "output_type": "stream",
     "text": [
      "Enter the value for k 3\n"
     ]
    },
    {
     "data": {
      "text/html": [
       "<div>\n",
       "<style scoped>\n",
       "    .dataframe tbody tr th:only-of-type {\n",
       "        vertical-align: middle;\n",
       "    }\n",
       "\n",
       "    .dataframe tbody tr th {\n",
       "        vertical-align: top;\n",
       "    }\n",
       "\n",
       "    .dataframe thead th {\n",
       "        text-align: right;\n",
       "    }\n",
       "</style>\n",
       "<table border=\"1\" class=\"dataframe\">\n",
       "  <thead>\n",
       "    <tr style=\"text-align: right;\">\n",
       "      <th></th>\n",
       "      <th>word</th>\n",
       "      <th>character</th>\n",
       "    </tr>\n",
       "  </thead>\n",
       "  <tbody>\n",
       "    <tr>\n",
       "      <th>0</th>\n",
       "      <td>Artificial</td>\n",
       "      <td>t</td>\n",
       "    </tr>\n",
       "    <tr>\n",
       "      <th>1</th>\n",
       "      <td>intelligence</td>\n",
       "      <td>c</td>\n",
       "    </tr>\n",
       "    <tr>\n",
       "      <th>2</th>\n",
       "      <td>is</td>\n",
       "      <td>_</td>\n",
       "    </tr>\n",
       "    <tr>\n",
       "      <th>3</th>\n",
       "      <td>the</td>\n",
       "      <td>e</td>\n",
       "    </tr>\n",
       "    <tr>\n",
       "      <th>4</th>\n",
       "      <td>heart</td>\n",
       "      <td>a</td>\n",
       "    </tr>\n",
       "    <tr>\n",
       "      <th>5</th>\n",
       "      <td>of</td>\n",
       "      <td>_</td>\n",
       "    </tr>\n",
       "    <tr>\n",
       "      <th>6</th>\n",
       "      <td>future</td>\n",
       "      <td>r</td>\n",
       "    </tr>\n",
       "  </tbody>\n",
       "</table>\n",
       "</div>"
      ],
      "text/plain": [
       "           word character\n",
       "0    Artificial         t\n",
       "1  intelligence         c\n",
       "2            is         _\n",
       "3           the         e\n",
       "4         heart         a\n",
       "5            of         _\n",
       "6        future         r"
      ]
     },
     "execution_count": 44,
     "metadata": {},
     "output_type": "execute_result"
    }
   ],
   "source": [
    "# driver code\n",
    "r = []\n",
    "k = int(input('Enter the value for k'))\n",
    "for i in my_list:\n",
    "    result = kthNonRepeating(i, k)\n",
    "    if result == -1:\n",
    "        r.append((i,'_'))\n",
    "    else:\n",
    "        r.append((i,i[result]))\n",
    "df2 = pd.DataFrame(r,columns = ['word','character'])\n",
    "df2"
   ]
  },
  {
   "cell_type": "markdown",
   "metadata": {},
   "source": [
    "### Task 3 "
   ]
  },
  {
   "cell_type": "code",
   "execution_count": 45,
   "metadata": {},
   "outputs": [],
   "source": [
    "my_dict = {'category':['Furniture','Technology','officesupplies','Furniture','Technology'],\n",
    "          'subcategory':['Chairs','Mobile phone','letterpads','cot','blueetooth']}"
   ]
  },
  {
   "cell_type": "code",
   "execution_count": 46,
   "metadata": {},
   "outputs": [],
   "source": [
    "df3 = pd.DataFrame(my_dict)"
   ]
  },
  {
   "cell_type": "code",
   "execution_count": 47,
   "metadata": {},
   "outputs": [
    {
     "data": {
      "text/html": [
       "<div>\n",
       "<style scoped>\n",
       "    .dataframe tbody tr th:only-of-type {\n",
       "        vertical-align: middle;\n",
       "    }\n",
       "\n",
       "    .dataframe tbody tr th {\n",
       "        vertical-align: top;\n",
       "    }\n",
       "\n",
       "    .dataframe thead th {\n",
       "        text-align: right;\n",
       "    }\n",
       "</style>\n",
       "<table border=\"1\" class=\"dataframe\">\n",
       "  <thead>\n",
       "    <tr style=\"text-align: right;\">\n",
       "      <th></th>\n",
       "      <th>category</th>\n",
       "      <th>subcategory</th>\n",
       "    </tr>\n",
       "  </thead>\n",
       "  <tbody>\n",
       "    <tr>\n",
       "      <th>0</th>\n",
       "      <td>Furniture</td>\n",
       "      <td>Chairs</td>\n",
       "    </tr>\n",
       "    <tr>\n",
       "      <th>1</th>\n",
       "      <td>Technology</td>\n",
       "      <td>Mobile phone</td>\n",
       "    </tr>\n",
       "    <tr>\n",
       "      <th>2</th>\n",
       "      <td>officesupplies</td>\n",
       "      <td>letterpads</td>\n",
       "    </tr>\n",
       "    <tr>\n",
       "      <th>3</th>\n",
       "      <td>Furniture</td>\n",
       "      <td>cot</td>\n",
       "    </tr>\n",
       "    <tr>\n",
       "      <th>4</th>\n",
       "      <td>Technology</td>\n",
       "      <td>blueetooth</td>\n",
       "    </tr>\n",
       "  </tbody>\n",
       "</table>\n",
       "</div>"
      ],
      "text/plain": [
       "         category   subcategory\n",
       "0       Furniture        Chairs\n",
       "1      Technology  Mobile phone\n",
       "2  officesupplies    letterpads\n",
       "3       Furniture           cot\n",
       "4      Technology    blueetooth"
      ]
     },
     "execution_count": 47,
     "metadata": {},
     "output_type": "execute_result"
    }
   ],
   "source": [
    "df3"
   ]
  },
  {
   "cell_type": "code",
   "execution_count": 69,
   "metadata": {},
   "outputs": [
    {
     "data": {
      "text/plain": [
       "[{'category': 'furniture', 'subcategory': ['chairs', 'cot']},\n",
       " {'category': 'technology', 'subcategory': ['mobile phones', 'blueetooth']}]"
      ]
     },
     "execution_count": 69,
     "metadata": {},
     "output_type": "execute_result"
    }
   ],
   "source": [
    "json_object = json.dumps(my_dict)\n",
    "value = json.loads(json_object)\n",
    "json.dumps(json_object, indent=4)\n",
    "[\n",
    "    {\n",
    "    \"category\": \n",
    "        \"furniture\",\n",
    "    \"subcategory\": [\n",
    "        \"chairs\",\n",
    "        \"cot\"],\n",
    "    },\n",
    "    {\n",
    "    \"category\":\n",
    "        \"technology\",\n",
    "    \"subcategory\":[\n",
    "        \"mobile phones\",\n",
    "            \"blueetooth\"\n",
    "        ]   \n",
    "    }\n",
    "]"
   ]
  },
  {
   "cell_type": "markdown",
   "metadata": {},
   "source": [
    "### Task-4"
   ]
  },
  {
   "cell_type": "code",
   "execution_count": 74,
   "metadata": {},
   "outputs": [],
   "source": [
    "my_string = '''Cricket is a bat-and-ball game played between \n",
    "two teams of eleven players on a field at the centre of which is a \n",
    "22-yard,44,88 (20-metre) pitch with a wicket at each end, each comprising two bails balanced \n",
    "on three stumps. The batting side scores runs by striking the ball bowled at the wicket \n",
    "with the bat (and running between the wickets), while the bowling and fielding side \n",
    "tries to prevent this (by preventing the ball from leaving the field 44, and getting the ball \n",
    "to either wicket) and dismiss each batter (so they are \"out\"). \n",
    "Means of dismissal include being bowled, when the ball hits the stumps and dislodges the bails, \n",
    "and by the fielding side either catching the ball after it is hit by 55,67,68 the bat and before \n",
    "it hits the ground, or hitting a wicket with the ball before a batter can cross the crease \n",
    "in front of the wicket. When ten batters have been dismissed, the innings ends and the teams swap roles. \n",
    "The game is adjudicated by two umpires.aided by a third umpire and match referee in international matches. \n",
    "They communicate with two off-field scorers who record the match's statistical information.'''"
   ]
  },
  {
   "cell_type": "code",
   "execution_count": 82,
   "metadata": {},
   "outputs": [],
   "source": [
    "my_list = my_string.split('.')"
   ]
  },
  {
   "cell_type": "code",
   "execution_count": 83,
   "metadata": {},
   "outputs": [],
   "source": [
    "df4 = pd.DataFrame(my_list,columns=['sentences'])"
   ]
  },
  {
   "cell_type": "code",
   "execution_count": 84,
   "metadata": {},
   "outputs": [
    {
     "data": {
      "text/html": [
       "<div>\n",
       "<style scoped>\n",
       "    .dataframe tbody tr th:only-of-type {\n",
       "        vertical-align: middle;\n",
       "    }\n",
       "\n",
       "    .dataframe tbody tr th {\n",
       "        vertical-align: top;\n",
       "    }\n",
       "\n",
       "    .dataframe thead th {\n",
       "        text-align: right;\n",
       "    }\n",
       "</style>\n",
       "<table border=\"1\" class=\"dataframe\">\n",
       "  <thead>\n",
       "    <tr style=\"text-align: right;\">\n",
       "      <th></th>\n",
       "      <th>sentences</th>\n",
       "    </tr>\n",
       "  </thead>\n",
       "  <tbody>\n",
       "    <tr>\n",
       "      <th>0</th>\n",
       "      <td>Cricket is a bat-and-ball game played between ...</td>\n",
       "    </tr>\n",
       "    <tr>\n",
       "      <th>1</th>\n",
       "      <td>The batting side scores runs by striking the ...</td>\n",
       "    </tr>\n",
       "    <tr>\n",
       "      <th>2</th>\n",
       "      <td>\\nMeans of dismissal include being bowled, wh...</td>\n",
       "    </tr>\n",
       "    <tr>\n",
       "      <th>3</th>\n",
       "      <td>When ten batters have been dismissed, the inn...</td>\n",
       "    </tr>\n",
       "    <tr>\n",
       "      <th>4</th>\n",
       "      <td>\\nThe game is adjudicated by two umpires</td>\n",
       "    </tr>\n",
       "    <tr>\n",
       "      <th>5</th>\n",
       "      <td>aided by a third umpire and match referee in i...</td>\n",
       "    </tr>\n",
       "    <tr>\n",
       "      <th>6</th>\n",
       "      <td>\\nThey communicate with two off-field scorers...</td>\n",
       "    </tr>\n",
       "    <tr>\n",
       "      <th>7</th>\n",
       "      <td></td>\n",
       "    </tr>\n",
       "  </tbody>\n",
       "</table>\n",
       "</div>"
      ],
      "text/plain": [
       "                                           sentences\n",
       "0  Cricket is a bat-and-ball game played between ...\n",
       "1   The batting side scores runs by striking the ...\n",
       "2   \\nMeans of dismissal include being bowled, wh...\n",
       "3   When ten batters have been dismissed, the inn...\n",
       "4           \\nThe game is adjudicated by two umpires\n",
       "5  aided by a third umpire and match referee in i...\n",
       "6   \\nThey communicate with two off-field scorers...\n",
       "7                                                   "
      ]
     },
     "execution_count": 84,
     "metadata": {},
     "output_type": "execute_result"
    }
   ],
   "source": [
    "df4"
   ]
  },
  {
   "cell_type": "code",
   "execution_count": 108,
   "metadata": {},
   "outputs": [],
   "source": [
    "def countDigit(string):\n",
    "    r=[]\n",
    "    count = 0\n",
    "    for i in string:\n",
    "        if i.isdigit() == True:\n",
    "            count = count+1\n",
    "    r.append(count)\n",
    "    return(tuple(r))"
   ]
  },
  {
   "cell_type": "code",
   "execution_count": 109,
   "metadata": {},
   "outputs": [
    {
     "ename": "AttributeError",
     "evalue": "'int' object has no attribute 'isdigit'",
     "output_type": "error",
     "traceback": [
      "\u001b[1;31m---------------------------------------------------------------------------\u001b[0m",
      "\u001b[1;31mAttributeError\u001b[0m                            Traceback (most recent call last)",
      "\u001b[1;32m<ipython-input-109-fb234f55d4bc>\u001b[0m in \u001b[0;36m<module>\u001b[1;34m\u001b[0m\n\u001b[0;32m      1\u001b[0m \u001b[1;32mfor\u001b[0m \u001b[0mi\u001b[0m \u001b[1;32min\u001b[0m \u001b[0mmy_list\u001b[0m\u001b[1;33m:\u001b[0m\u001b[1;33m\u001b[0m\u001b[1;33m\u001b[0m\u001b[0m\n\u001b[1;32m----> 2\u001b[1;33m     \u001b[0mres\u001b[0m \u001b[1;33m=\u001b[0m \u001b[0mcountDigit\u001b[0m\u001b[1;33m(\u001b[0m\u001b[0mi\u001b[0m\u001b[1;33m)\u001b[0m\u001b[1;33m\u001b[0m\u001b[1;33m\u001b[0m\u001b[0m\n\u001b[0m\u001b[0;32m      3\u001b[0m     \u001b[0mmy_list\u001b[0m\u001b[1;33m.\u001b[0m\u001b[0mappend\u001b[0m\u001b[1;33m(\u001b[0m\u001b[0mres\u001b[0m\u001b[1;33m)\u001b[0m\u001b[1;33m\u001b[0m\u001b[1;33m\u001b[0m\u001b[0m\n",
      "\u001b[1;32m<ipython-input-108-84646aa6f45d>\u001b[0m in \u001b[0;36mcountDigit\u001b[1;34m(string)\u001b[0m\n\u001b[0;32m      3\u001b[0m     \u001b[0mcount\u001b[0m \u001b[1;33m=\u001b[0m \u001b[1;36m0\u001b[0m\u001b[1;33m\u001b[0m\u001b[1;33m\u001b[0m\u001b[0m\n\u001b[0;32m      4\u001b[0m     \u001b[1;32mfor\u001b[0m \u001b[0mi\u001b[0m \u001b[1;32min\u001b[0m \u001b[0mstring\u001b[0m\u001b[1;33m:\u001b[0m\u001b[1;33m\u001b[0m\u001b[1;33m\u001b[0m\u001b[0m\n\u001b[1;32m----> 5\u001b[1;33m         \u001b[1;32mif\u001b[0m \u001b[0mi\u001b[0m\u001b[1;33m.\u001b[0m\u001b[0misdigit\u001b[0m\u001b[1;33m(\u001b[0m\u001b[1;33m)\u001b[0m \u001b[1;33m==\u001b[0m \u001b[1;32mTrue\u001b[0m\u001b[1;33m:\u001b[0m\u001b[1;33m\u001b[0m\u001b[1;33m\u001b[0m\u001b[0m\n\u001b[0m\u001b[0;32m      6\u001b[0m             \u001b[0mcount\u001b[0m \u001b[1;33m=\u001b[0m \u001b[0mcount\u001b[0m\u001b[1;33m+\u001b[0m\u001b[1;36m1\u001b[0m\u001b[1;33m\u001b[0m\u001b[1;33m\u001b[0m\u001b[0m\n\u001b[0;32m      7\u001b[0m     \u001b[0mr\u001b[0m\u001b[1;33m.\u001b[0m\u001b[0mappend\u001b[0m\u001b[1;33m(\u001b[0m\u001b[0mcount\u001b[0m\u001b[1;33m)\u001b[0m\u001b[1;33m\u001b[0m\u001b[1;33m\u001b[0m\u001b[0m\n",
      "\u001b[1;31mAttributeError\u001b[0m: 'int' object has no attribute 'isdigit'"
     ]
    }
   ],
   "source": [
    "for i in my_list:\n",
    "    res = countDigit(i)\n",
    "    my_list.append(res)"
   ]
  },
  {
   "cell_type": "code",
   "execution_count": 107,
   "metadata": {},
   "outputs": [
    {
     "data": {
      "text/plain": [
       "['Cricket is a bat-and-ball game played between \\ntwo teams of eleven players on a field at the centre of which is a \\n22-yard,44,88 (20-metre) pitch with a wicket at each end, each comprising two bails balanced \\non three stumps',\n",
       " ' The batting side scores runs by striking the ball bowled at the wicket \\nwith the bat (and running between the wickets), while the bowling and fielding side \\ntries to prevent this (by preventing the ball from leaving the field 44, and getting the ball \\nto either wicket) and dismiss each batter (so they are \"out\")',\n",
       " ' \\nMeans of dismissal include being bowled, when the ball hits the stumps and dislodges the bails, \\nand by the fielding side either catching the ball after it is hit by 55,67,68 the bat and before \\nit hits the ground, or hitting a wicket with the ball before a batter can cross the crease \\nin front of the wicket',\n",
       " ' When ten batters have been dismissed, the innings ends and the teams swap roles',\n",
       " ' \\nThe game is adjudicated by two umpires',\n",
       " 'aided by a third umpire and match referee in international matches',\n",
       " \" \\nThey communicate with two off-field scorers who record the match's statistical information\",\n",
       " '',\n",
       " (8, 8),\n",
       " (2, 2),\n",
       " (6, 6),\n",
       " (0, 0),\n",
       " (0, 0),\n",
       " (0, 0),\n",
       " (0, 0),\n",
       " (0, 0),\n",
       " (8,),\n",
       " (2,),\n",
       " (6,),\n",
       " (0,),\n",
       " (0,),\n",
       " (0,),\n",
       " (0,),\n",
       " (0,),\n",
       " (8,),\n",
       " (2,),\n",
       " (6,),\n",
       " (0,),\n",
       " (0,),\n",
       " (0,),\n",
       " (0,),\n",
       " (0,),\n",
       " (8,),\n",
       " (2,),\n",
       " (6,),\n",
       " (0,),\n",
       " (0,),\n",
       " (0,),\n",
       " (0,),\n",
       " (0,),\n",
       " (8,),\n",
       " (2,),\n",
       " (6,),\n",
       " (0,),\n",
       " (0,),\n",
       " (0,),\n",
       " (0,),\n",
       " (0,),\n",
       " (8,),\n",
       " (2,),\n",
       " (6,),\n",
       " (0,),\n",
       " (0,),\n",
       " (0,),\n",
       " (0,),\n",
       " (0,)]"
      ]
     },
     "execution_count": 107,
     "metadata": {},
     "output_type": "execute_result"
    }
   ],
   "source": [
    "my_list"
   ]
  },
  {
   "cell_type": "code",
   "execution_count": null,
   "metadata": {},
   "outputs": [],
   "source": []
  }
 ],
 "metadata": {
  "kernelspec": {
   "display_name": "Python 3",
   "language": "python",
   "name": "python3"
  },
  "language_info": {
   "codemirror_mode": {
    "name": "ipython",
    "version": 3
   },
   "file_extension": ".py",
   "mimetype": "text/x-python",
   "name": "python",
   "nbconvert_exporter": "python",
   "pygments_lexer": "ipython3",
   "version": "3.8.3"
  }
 },
 "nbformat": 4,
 "nbformat_minor": 4
}
